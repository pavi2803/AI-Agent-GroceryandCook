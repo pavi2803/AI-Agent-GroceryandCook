{
 "cells": [
  {
   "cell_type": "code",
   "execution_count": 2,
   "id": "8155797e",
   "metadata": {},
   "outputs": [],
   "source": [
    "import pandas as pd\n",
    "import numpy as np"
   ]
  },
  {
   "cell_type": "code",
   "execution_count": 3,
   "id": "a529d8bc",
   "metadata": {},
   "outputs": [],
   "source": [
    "import pandas as pd\n",
    "\n",
    "data = pd.read_csv(\"cleaned_recipe_data.csv\")\n",
    "# Make sure it has at least 'title' and 'ingredients' columns\n",
    "data = data.dropna(subset=['Title', 'cleaned_ingredient_names'])\n"
   ]
  },
  {
   "cell_type": "code",
   "execution_count": 4,
   "id": "cf7e6778",
   "metadata": {},
   "outputs": [],
   "source": [
    "from sklearn.feature_extraction.text import TfidfVectorizer\n",
    "from sklearn.metrics.pairwise import cosine_similarity\n",
    "\n",
    "vectorizer = TfidfVectorizer(stop_words='english')\n",
    "tfidf_matrix = vectorizer.fit_transform(data['cleaned_ingredient_names'])\n",
    "\n",
    "def search_similar_recipes(user_ingredients, top_k=3):\n",
    "    user_vec = vectorizer.transform([user_ingredients])\n",
    "    sim_scores = cosine_similarity(user_vec, tfidf_matrix).flatten()\n",
    "    top_indices = sim_scores.argsort()[-top_k:][::-1]\n",
    "    return data.iloc[top_indices]\n"
   ]
  },
  {
   "cell_type": "code",
   "execution_count": 5,
   "id": "90eb81c6",
   "metadata": {},
   "outputs": [],
   "source": [
    "from transformers import AutoTokenizer, AutoModelForSeq2SeqLM\n",
    "\n",
    "tokenizer = AutoTokenizer.from_pretrained(\"google/flan-t5-small\")\n",
    "model = AutoModelForSeq2SeqLM.from_pretrained(\"google/flan-t5-small\")\n",
    "\n",
    "def format_prompt(user_ingredients, retrieved_df):\n",
    "    items = \"\\n\".join(f\"- {row['Title']}: {row['cleaned_ingredient_names']}\" for _, row in retrieved_df.iterrows())\n",
    "    return f\"I have the following ingredients: {user_ingredients}.\\nWhich of these dishes can I make?\\n{items}\\nJust name the best one.\"\n",
    "\n",
    "def get_suggestion(user_ingredients):\n",
    "    matches = search_similar_recipes(user_ingredients)\n",
    "    prompt = format_prompt(user_ingredients, matches)\n",
    "    inputs = tokenizer(prompt, return_tensors=\"pt\", truncation=True)\n",
    "    outputs = model.generate(\n",
    "        **inputs,\n",
    "        max_new_tokens=80,\n",
    "        temperature=0.7,\n",
    "        top_p=0.9,\n",
    "        repetition_penalty=1.1,\n",
    "        pad_token_id=tokenizer.eos_token_id,\n",
    "        eos_token_id=tokenizer.eos_token_id\n",
    "    )\n",
    "    return tokenizer.decode(outputs[0], skip_special_tokens=True)\n"
   ]
  },
  {
   "cell_type": "code",
   "execution_count": 6,
   "id": "31749c47",
   "metadata": {},
   "outputs": [
    {
     "name": "stdout",
     "output_type": "stream",
     "text": [
      "Available memory: 2.93 GB\n"
     ]
    }
   ],
   "source": [
    "import psutil\n",
    "print(f\"Available memory: {psutil.virtual_memory().available / 1e9:.2f} GB\")\n"
   ]
  },
  {
   "cell_type": "code",
   "execution_count": 7,
   "id": "bdb8e1de",
   "metadata": {},
   "outputs": [
    {
     "ename": "",
     "evalue": "",
     "output_type": "error",
     "traceback": [
      "\u001b[1;31mThe Kernel crashed while executing code in the current cell or a previous cell. \n",
      "\u001b[1;31mPlease review the code in the cell(s) to identify a possible cause of the failure. \n",
      "\u001b[1;31mClick <a href='https://aka.ms/vscodeJupyterKernelCrash'>here</a> for more info. \n",
      "\u001b[1;31mView Jupyter <a href='command:jupyter.viewOutput'>log</a> for further details."
     ]
    }
   ],
   "source": [
    "print(get_suggestion(\"pasta, garlic, olive oil, tomatoes\"))"
   ]
  },
  {
   "cell_type": "code",
   "execution_count": null,
   "id": "7f468abc",
   "metadata": {},
   "outputs": [
    {
     "name": "stdout",
     "output_type": "stream",
     "text": [
      "Available memory: 3.19 GB\n"
     ]
    }
   ],
   "source": []
  },
  {
   "cell_type": "code",
   "execution_count": 1,
   "id": "38923cbe",
   "metadata": {},
   "outputs": [
    {
     "name": "stdout",
     "output_type": "stream",
     "text": [
      "Requirement already satisfied: setuptools<81 in /opt/anaconda3/lib/python3.12/site-packages (80.9.0)\n",
      "Note: you may need to restart the kernel to use updated packages.\n"
     ]
    }
   ],
   "source": [
    "pip install \"setuptools<81\""
   ]
  },
  {
   "cell_type": "code",
   "execution_count": null,
   "id": "a1584e68",
   "metadata": {},
   "outputs": [],
   "source": []
  }
 ],
 "metadata": {
  "kernelspec": {
   "display_name": "base",
   "language": "python",
   "name": "python3"
  },
  "language_info": {
   "codemirror_mode": {
    "name": "ipython",
    "version": 3
   },
   "file_extension": ".py",
   "mimetype": "text/x-python",
   "name": "python",
   "nbconvert_exporter": "python",
   "pygments_lexer": "ipython3",
   "version": "3.12.7"
  }
 },
 "nbformat": 4,
 "nbformat_minor": 5
}
